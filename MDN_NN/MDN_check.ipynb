{
 "cells": [
  {
   "cell_type": "code",
   "execution_count": 1,
   "id": "approved-pottery",
   "metadata": {},
   "outputs": [],
   "source": [
    "import matplotlib.pyplot as plt\n",
    "import numpy as np\n",
    "import torch\n",
    "from torch.autograd import Variable\n",
    "import torch.optim as optim\n",
    "import pandas as pd"
   ]
  },
  {
   "cell_type": "markdown",
   "id": "instant-blake",
   "metadata": {},
   "source": [
    "# データ生成 -data generation-"
   ]
  },
  {
   "cell_type": "code",
   "execution_count": 5,
   "id": "prompt-glance",
   "metadata": {},
   "outputs": [],
   "source": [
    "input_path = \"plays_2_to_MDN.csv\"\n",
    "data_df = pd.read_csv(input_path)\n",
    "\n",
    "# play_typeの数値化\n",
    "data_df[\"play_type\"] = \"nan\"\n",
    "data_df.loc[data_df[\"play\"]==\"guard\",  \"play_type\"] = 0\n",
    "data_df.loc[data_df[\"play\"]==\"tackle\", \"play_type\"] = 1\n",
    "data_df.loc[data_df[\"play\"]==\"end\",    \"play_type\"] = 2\n",
    "data_df.loc[data_df[\"play\"]==\"short\",  \"play_type\"] = 3\n",
    "data_df.loc[data_df[\"play\"]==\"deep\",   \"play_type\"] = 4\n",
    "\n",
    "# distanceの数値化\n",
    "data_df[\"dist\"] = \"\"\n",
    "data_df.loc[data_df[\"yardsToGo\"]<=3, \"dist\"] = 3\n",
    "data_df.loc[(data_df[\"yardsToGo\"]<=6)&(data_df[\"yardsToGo\"]>=4), \"dist\"] = 2\n",
    "data_df.loc[data_df[\"yardsToGo\"]>=7, \"dist\"] = 1\n",
    "data_df[\"dist\"] = data_df[\"dist\"].astype(\"float\")\n",
    "\n",
    "data_df = data_df[data_df[\"play_type\"]!=\"nan\"]\n",
    "data_df[\"play_type\"] = data_df[\"play_type\"].astype(\"float\")\n",
    "data_df.head()\n",
    "\n",
    "# 正規化の関数\n",
    "def min_max_norm(x, axis=None): # 正規化\n",
    "    x_min = x.min(axis=axis)\n",
    "    x_max = x.max(axis=axis)\n",
    "    result = (x-x_min)/(x_max-x_min)\n",
    "    return result"
   ]
  },
  {
   "cell_type": "markdown",
   "id": "entertaining-thompson",
   "metadata": {},
   "source": [
    "## 複数の入力に対するデータ"
   ]
  },
  {
   "cell_type": "code",
   "execution_count": 8,
   "id": "unavailable-trust",
   "metadata": {
    "code_folding": []
   },
   "outputs": [],
   "source": [
    "# データセットの関数定義\n",
    "def create_input_data(input_path, norm=True, sample=True, sample_num=100):\n",
    "    \n",
    "    \"\"\"\n",
    "    norm : 正規化するか否か(デフォルト：True)\n",
    "    sample : データのsample（決められた数）するか否か（デフォルト：True）\n",
    "    sample_num : sample=Trueの時のサンプル数（デフォルト：１００）\n",
    "    \"\"\"\n",
    "    \n",
    "    df = data_df\n",
    "    \n",
    "    # sample\n",
    "    if sample: #True\n",
    "        tmp_df = df.sample(sample_num)    \n",
    "    else:\n",
    "        tmp_df = df.copy()\n",
    "\n",
    "    if norm: # True -> 正規化\n",
    "        d1 = tmp_df[['down', 'yardsToGo', 'play_type']]\n",
    "        d2 = min_max_norm(tmp_df[[\"PlayResult\"]])\n",
    "        d = pd.concat([d1, d2], axis=1)            \n",
    "    \n",
    "    # 入力データの型変換 \n",
    "    x_data = d[['down', 'yardsToGo', 'play_type']].values\n",
    "\n",
    "    # 出力データの型変換\n",
    "    y_data = d[\"PlayResult\"].values\n",
    "    y_data = y_data.reshape(-1, 1).astype(np.float32)\n",
    "    return x_data, y_data\n",
    "\n",
    "# 全体\n",
    "x_data, y_data = create_input_data(input_path, norm=True, sample=False, sample_num=100)"
   ]
  },
  {
   "cell_type": "code",
   "execution_count": 15,
   "id": "optional-constraint",
   "metadata": {},
   "outputs": [],
   "source": [
    "n = y_data.size\n",
    "d = 3 # 入力値のサイズ\n",
    "t = 1 # 出力値のサイズ（次元数）\n",
    "h = 50 # 隠れ層のノード数\n",
    "k = 30 # 正規分布の山の数\n",
    "iter_num = 1500\n",
    "\n",
    "d_pi = k\n",
    "d_sigmasq = k\n",
    "d_mu = t * k"
   ]
  },
  {
   "cell_type": "code",
   "execution_count": 17,
   "id": "adjustable-clone",
   "metadata": {},
   "outputs": [],
   "source": [
    "import MDN_model\n",
    "model = MDN_model.MDN_NN(d,t,h,k)"
   ]
  },
  {
   "cell_type": "code",
   "execution_count": 18,
   "id": "recorded-strand",
   "metadata": {
    "scrolled": true
   },
   "outputs": [
    {
     "name": "stdout",
     "output_type": "stream",
     "text": [
      "tensor(1.0981)\n",
      "tensor(-1.2278)\n",
      "tensor(-1.2953)\n",
      "tensor(-1.4449)\n",
      "tensor(-1.2865)\n",
      "tensor(-1.4405)\n",
      "tensor(-1.2303)\n",
      "tensor(-1.4007)\n",
      "tensor(-1.3936)\n",
      "tensor(-1.4194)\n",
      "tensor(-1.2617)\n",
      "tensor(-1.3752)\n",
      "tensor(-1.2878)\n",
      "tensor(-1.4412)\n",
      "tensor(-1.4110)\n"
     ]
    }
   ],
   "source": [
    "opt = optim.Adam(model.parameters(), lr=0.008)\n",
    "\n",
    "x = Variable(torch.from_numpy(x_data))\n",
    "y = Variable(torch.from_numpy(y_data))\n",
    "\n",
    "loss_list = []\n",
    "loss_list_abs = []\n",
    "for e in range(iter_num):\n",
    "    opt.zero_grad()\n",
    "    pi, sigmasq, mu = model(x)\n",
    "    loss = model.loss(pi, sigmasq, mu, y, n)\n",
    "    loss_list.append(loss)\n",
    "    loss_list_abs.append(abs(loss))\n",
    "    if e % 100 == 0:\n",
    "        print(loss.data)\n",
    "    loss.backward()\n",
    "    opt.step()"
   ]
  },
  {
   "cell_type": "code",
   "execution_count": 19,
   "id": "emerging-morocco",
   "metadata": {},
   "outputs": [
    {
     "name": "stdout",
     "output_type": "stream",
     "text": [
      "tensor([ 1.0454, -0.5013, -0.8887, -0.3365,  0.5345, -0.0249,  0.4015, -1.2762,\n",
      "         1.8783,  1.2032,  1.3076,  1.7079, -0.3452,  1.0102,  0.7578,  0.8786,\n",
      "        -0.9921,  1.3441,  0.2122,  2.3509,  0.7508,  2.9876,  2.6947,  0.9233,\n",
      "         2.1274,  0.4656,  1.8005, -1.0575,  0.6720,  0.2375],\n",
      "       grad_fn=<SelectBackward0>)\n"
     ]
    },
    {
     "data": {
      "text/plain": [
       "torch.Size([9218, 30])"
      ]
     },
     "execution_count": 19,
     "metadata": {},
     "output_type": "execute_result"
    }
   ],
   "source": [
    " # save\n",
    "torch.save(model.state_dict(), 'save.pth')"
   ]
  }
 ],
 "metadata": {
  "kernelspec": {
   "display_name": "Python 3",
   "language": "python",
   "name": "python3"
  },
  "language_info": {
   "codemirror_mode": {
    "name": "ipython",
    "version": 3
   },
   "file_extension": ".py",
   "mimetype": "text/x-python",
   "name": "python",
   "nbconvert_exporter": "python",
   "pygments_lexer": "ipython3",
   "version": "3.9.2"
  },
  "toc": {
   "base_numbering": 1,
   "nav_menu": {},
   "number_sections": true,
   "sideBar": true,
   "skip_h1_title": false,
   "title_cell": "Table of Contents",
   "title_sidebar": "Contents",
   "toc_cell": false,
   "toc_position": {
    "height": "calc(100% - 180px)",
    "left": "10px",
    "top": "150px",
    "width": "322.5px"
   },
   "toc_section_display": true,
   "toc_window_display": true
  }
 },
 "nbformat": 4,
 "nbformat_minor": 5
}
