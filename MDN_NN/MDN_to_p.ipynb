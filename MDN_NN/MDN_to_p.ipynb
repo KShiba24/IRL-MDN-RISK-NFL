{
 "cells": [
  {
   "cell_type": "code",
   "execution_count": null,
   "id": "7ec9a559",
   "metadata": {},
   "outputs": [],
   "source": [
    "import math\n",
    "import numpy as np\n",
    "import torch\n",
    "from torch.autograd import Variable\n",
    "import pandas as pd\n",
    "import scipy.stats as stats"
   ]
  },
  {
   "cell_type": "code",
   "execution_count": null,
   "id": "exciting-trustee",
   "metadata": {},
   "outputs": [],
   "source": [
    "# 正規化の関数\n",
    "# def mean_norm(df_input): # 標準化\n",
    "#         return df_input.apply(lambda x: (x-x.mean())/ x.std(), axis=0)\n",
    "    \n",
    "def min_max_norm(x, axis=None): # 正規化\n",
    "    x_min = x.min(axis=axis)\n",
    "    x_max = x.max(axis=axis)\n",
    "    result = (x-x_min)/(x_max-x_min)\n",
    "    return result"
   ]
  },
  {
   "cell_type": "code",
   "execution_count": null,
   "id": "optional-constraint",
   "metadata": {},
   "outputs": [],
   "source": [
    "d = 3 # 入力値のサイズ\n",
    "t = 1 # 出力値のサイズ（次元数）\n",
    "h = 50 # 隠れ層のノード数\n",
    "k = 30 # 正規分布の山の数\n",
    "np.random.seed(seed=32)"
   ]
  },
  {
   "cell_type": "markdown",
   "id": "insured-greenhouse",
   "metadata": {},
   "source": [
    "## MDN"
   ]
  },
  {
   "cell_type": "code",
   "execution_count": null,
   "id": "adjustable-clone",
   "metadata": {},
   "outputs": [],
   "source": [
    "import MDN_model\n",
    "model = MDN_model.MDN_NN(d,t,h,k)\n",
    "model.load_state_dict(torch.load('save.pth')) # load"
   ]
  },
  {
   "cell_type": "code",
   "execution_count": null,
   "id": "settled-crime",
   "metadata": {},
   "outputs": [],
   "source": [
    "# 正規化から元に戻す関数\n",
    "def return_norm(tmp_df, base_df, axis=None):\n",
    "    \"\"\"\n",
    "    tmp_df : 修正するデータ\n",
    "    base_df : 元にするデータ（min, maxをとるデータ）\n",
    "    \"\"\"\n",
    "    x_max = base_df.max()\n",
    "    x_min = base_df.min()\n",
    "    return tmp_df.apply(lambda x: x*(x_max-x_min)+x_min)"
   ]
  },
  {
   "cell_type": "code",
   "execution_count": null,
   "id": "urban-omaha",
   "metadata": {
    "code_folding": [
     67
    ]
   },
   "outputs": [],
   "source": [
    "# 順番に出力\n",
    "# stateごとに図を作成\n",
    "\n",
    "# 元々のデータ\n",
    "df = MDN_model.get_df_data()\n",
    "sample_num = 100\n",
    "x_max = df[\"PlayResult\"].max()\n",
    "x_min = df[\"PlayResult\"].min()\n",
    "\n",
    "def min_max_norm(x): # 正規化\n",
    "    result = (x-x_min)/(x_max-x_min)\n",
    "    return result\n",
    "\n",
    "# 出力のための辞書\n",
    "yard_dict = {1:\"red\", 2:\"yellow\", 3:\"blue\"}\n",
    "dist_dict = {1:\"long\", 2:\"middle\", 3:\"short\"}\n",
    "dn_dict = {1:\"1st down\", 2:\"2nd down\", 3:\"3rd down\"}\n",
    "play_dict = {0:\"guard\", 1:\"tackle\", 2:\"end\", 3:\"short\", 4:\"deep\"}\n",
    "\n",
    "# 出力するdf\n",
    "l_p  = []\n",
    "\n",
    "for dn in range(1,4):\n",
    "    for yard in range(0,11):\n",
    "        for play in range(0,5):\n",
    "            particle_list = [dn, 10 - yard, play]\n",
    "            # テストデータ\n",
    "            x_test = [particle_list for i in range(1)]\n",
    "            x_test = torch.from_numpy(np.array(x_test))\n",
    "            x_test = x_test.double()\n",
    "            # 順伝搬\n",
    "            pi, sigmasq, mu = model(Variable(x_test))\n",
    "            pi      = pi.detach().numpy()[0]\n",
    "            sigmasq = sigmasq.detach().numpy()[0]\n",
    "            mu      = mu.detach().numpy()[0]\n",
    "            ps = np.zeros(11)\n",
    "            for x in range(11):\n",
    "                x_ub = min_max_norm(x+1)\n",
    "                x_lb = min_max_norm(x)\n",
    "                \n",
    "                p = 0\n",
    "                if yard + x < 10:\n",
    "                    p_ub = 0\n",
    "                    for k_ in range(k):\n",
    "                        p_ub += pi[k_] * stats.norm.cdf(x_ub, loc=mu[k_], scale=math.sqrt(sigmasq[k_]))\n",
    "                else:\n",
    "                    p_ub = 1\n",
    "                \n",
    "                if x != 0:\n",
    "                    p_lb = 0\n",
    "                    for k_ in range(k):\n",
    "                        p_lb += pi[k_] * stats.norm.cdf(x_lb, loc=mu[k_], scale=math.sqrt(sigmasq[k_]))\n",
    "                else:\n",
    "                    p_lb = 0\n",
    "                    \n",
    "                ps[yard + x] = p_ub - p_lb\n",
    "                if yard + x == 10:\n",
    "                    break\n",
    "            for i in range(11):\n",
    "                l_p.append([dn,yard,play,i,ps[i]])\n",
    "                \n",
    "df_p = pd.DataFrame(l_p,columns=[\"dn\",\"yard\",\"a\",\"n_yard\",\"p\"])\n",
    "df_p.to_csv(\"mdn_p.csv\")"
   ]
  }
 ],
 "metadata": {
  "kernelspec": {
   "display_name": "Python 3",
   "language": "python",
   "name": "python3"
  },
  "language_info": {
   "codemirror_mode": {
    "name": "ipython",
    "version": 3
   },
   "file_extension": ".py",
   "mimetype": "text/x-python",
   "name": "python",
   "nbconvert_exporter": "python",
   "pygments_lexer": "ipython3",
   "version": "3.9.2"
  },
  "toc": {
   "base_numbering": 1,
   "nav_menu": {},
   "number_sections": true,
   "sideBar": true,
   "skip_h1_title": false,
   "title_cell": "Table of Contents",
   "title_sidebar": "Contents",
   "toc_cell": false,
   "toc_position": {
    "height": "calc(100% - 180px)",
    "left": "10px",
    "top": "150px",
    "width": "322.5px"
   },
   "toc_section_display": true,
   "toc_window_display": true
  }
 },
 "nbformat": 4,
 "nbformat_minor": 5
}
